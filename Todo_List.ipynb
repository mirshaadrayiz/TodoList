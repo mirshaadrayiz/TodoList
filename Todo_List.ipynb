{
 "cells": [
  {
   "cell_type": "code",
   "execution_count": 3,
   "id": "e93ef274-604c-439b-b007-a74e2325d380",
   "metadata": {},
   "outputs": [
    {
     "name": "stdout",
     "output_type": "stream",
     "text": [
      "Defaulting to user installation because normal site-packages is not writeable\n",
      "Collecting mysql-connector-python\n",
      "  Downloading mysql_connector_python-8.4.0-cp310-cp310-manylinux_2_17_x86_64.whl (19.4 MB)\n",
      "\u001b[2K     \u001b[90m━━━━━━━━━━━━━━━━━━━━━━━━━━━━━━━━━━━━━━━━\u001b[0m \u001b[32m19.4/19.4 MB\u001b[0m \u001b[31m4.7 MB/s\u001b[0m eta \u001b[36m0:00:00\u001b[0m00:01\u001b[0m00:01\u001b[0mm\n",
      "\u001b[?25hInstalling collected packages: mysql-connector-python\n",
      "Successfully installed mysql-connector-python-8.4.0\n"
     ]
    }
   ],
   "source": [
    "!pip install mysql-connector-python"
   ]
  },
  {
   "cell_type": "code",
   "execution_count": 4,
   "id": "6064391e",
   "metadata": {},
   "outputs": [],
   "source": [
    "import mysql.connector\n",
    "import os"
   ]
  },
  {
   "cell_type": "code",
   "execution_count": null,
   "id": "53404691",
   "metadata": {},
   "outputs": [],
   "source": [
    "# Fetch environment variables\n",
    "db_user = os.getenv('MYSQL_USER')\n",
    "db_password = os.getenv('MYSQL_PASSWORD')\n",
    "db_host = os.getenv('MYSQL_HOST')\n",
    "db_name = os.getenv('MYSQL_DATABASE')\n",
    "db_port = int(os.getenv('MYSQL_PORT'))\n",
    "raise_on_warnings = os.getenv('RAISE_ON_WARNINGS')\n",
    "\n",
    "# Create the configuration dictionary\n",
    "config = {\n",
    "    'user': db_user,             # MySQL username\n",
    "    'password': db_password,     # MySQL password\n",
    "    'host': db_host,             # MySQL host\n",
    "    'database': db_name,         # Database name\n",
    "    'port': db_port,             # MySQL port\n",
    "    'raise_on_warnings': raise_on_warnings.lower() == 'true'  # Convert string to boolean\n",
    "}\n",
    "\n",
    "try:\n",
    "    # Connect to the MySQL database\n",
    "    db = mysql.connector.connect(**config)\n",
    "\n",
    "    # Check if the connection is successful\n",
    "    if db.is_connected():\n",
    "        print('Connected to the MySQL database')\n",
    "        # Perform database operations here\n",
    "        # Execute SQL query to get database names\n",
    "        cursor = db.cursor()\n",
    "        cursor.execute(\"SHOW DATABASES\")\n",
    "        \n",
    "        # Fetch all the database names\n",
    "        databases = cursor.fetchall()\n",
    "        \n",
    "        # Print the database names\n",
    "        print(\"Databases in the MySQL server:\")\n",
    "        for db_name in databases:\n",
    "            print(db_name[0])\n",
    "\n",
    "except mysql.connector.Error as error:\n",
    "    print('Error:', error)"
   ]
  },
  {
   "cell_type": "code",
   "execution_count": 3,
   "id": "f3b2aeb5",
   "metadata": {},
   "outputs": [],
   "source": [
    "def add_task(task_name, description):\n",
    "    cursor = db.cursor()\n",
    "    sql = \"INSERT INTO tasks (task_name, description) VALUES (%s, %s)\"\n",
    "    val = (task_name, description)\n",
    "    cursor.execute(sql, val)\n",
    "    db.commit()\n",
    "    print(\"Task added successfully!\")"
   ]
  },
  {
   "cell_type": "code",
   "execution_count": 4,
   "id": "8f08c4d6",
   "metadata": {},
   "outputs": [],
   "source": [
    "def view_tasks():\n",
    "    cursor = db.cursor()\n",
    "    sql = \"SELECT * FROM tasks\"\n",
    "    cursor.execute(sql)\n",
    "    tasks = cursor.fetchall()\n",
    "    if (tasks):\n",
    "        for task in tasks:\n",
    "            print(f\"Task ID: {task[0]}, Task Name: {task[1]}, Description: {task[2]}, Completed: {'Yes' if task[3] else 'No'}\")\n",
    "    else:\n",
    "        print(\"No Tasks in the DataBase\")"
   ]
  },
  {
   "cell_type": "code",
   "execution_count": 5,
   "id": "970fd6a8",
   "metadata": {},
   "outputs": [],
   "source": [
    "def mark_completed(task_id):\n",
    "    cursor = db.cursor()\n",
    "    sql = \"UPDATE tasks SET is_completed = 1 WHERE id = %s\"\n",
    "    val = (task_id,)\n",
    "    cursor.execute(sql, val)\n",
    "    db.commit()\n",
    "    print(\"Task marked as completed!\")"
   ]
  },
  {
   "cell_type": "code",
   "execution_count": 6,
   "id": "b6a7aceb",
   "metadata": {},
   "outputs": [],
   "source": [
    "def update_task(task_id, task_name, description):\n",
    "    cursor = db.cursor()\n",
    "    sql = \"UPDATE tasks SET task_name = %s, description = %s WHERE id = %s\"\n",
    "    val = (task_name, description, task_id)\n",
    "    cursor.execute(sql, val)\n",
    "    db.commit()\n",
    "    print(\"Task details updated successfully!\")"
   ]
  },
  {
   "cell_type": "code",
   "execution_count": 7,
   "id": "04deb49e",
   "metadata": {},
   "outputs": [],
   "source": [
    "def delete_task(task_id):\n",
    "    cursor = db.cursor()\n",
    "    sql = \"DELETE FROM tasks WHERE id = %s\"\n",
    "    val = (task_id,)\n",
    "    cursor.execute(sql, val)\n",
    "    db.commit()\n",
    "    print(\"Task deleted successfully!\")"
   ]
  },
  {
   "cell_type": "code",
   "execution_count": 8,
   "id": "73f9e2e4",
   "metadata": {},
   "outputs": [
    {
     "name": "stdout",
     "output_type": "stream",
     "text": [
      "\n",
      "--- To-Do List ---\n",
      "1. Add Task\n",
      "2. View Tasks\n",
      "3. Mark Task as Completed\n",
      "4. Update Task Details\n",
      "5. Delete Task\n",
      "6. Exit\n",
      "Enter your choice: 2\n",
      "\n",
      "--- Tasks ---\n",
      "Task ID: 3, Task Name: Test ToDo Application, Description: Test and Debug to fix issues in the Application, Completed: No\n",
      "Task ID: 4, Task Name: Update GitHub, Description: Publish new changes of the ToDo App in the Repository, Completed: No\n",
      "\n",
      "--- To-Do List ---\n",
      "1. Add Task\n",
      "2. View Tasks\n",
      "3. Mark Task as Completed\n",
      "4. Update Task Details\n",
      "5. Delete Task\n",
      "6. Exit\n",
      "Enter your choice: 3\n",
      "Enter the task ID to mark as completed: 3\n",
      "Task marked as completed!\n",
      "\n",
      "--- To-Do List ---\n",
      "1. Add Task\n",
      "2. View Tasks\n",
      "3. Mark Task as Completed\n",
      "4. Update Task Details\n",
      "5. Delete Task\n",
      "6. Exit\n",
      "Enter your choice: 1\n",
      "Enter the task name: Publish blog\n",
      "Enter the task description: Publish blog on Medium to demonstrate the project\n",
      "Task added successfully!\n",
      "\n",
      "--- To-Do List ---\n",
      "1. Add Task\n",
      "2. View Tasks\n",
      "3. Mark Task as Completed\n",
      "4. Update Task Details\n",
      "5. Delete Task\n",
      "6. Exit\n",
      "Enter your choice: 2\n",
      "\n",
      "--- Tasks ---\n",
      "Task ID: 3, Task Name: Test ToDo Application, Description: Test and Debug to fix issues in the Application, Completed: Yes\n",
      "Task ID: 4, Task Name: Update GitHub, Description: Publish new changes of the ToDo App in the Repository, Completed: No\n",
      "Task ID: 5, Task Name: Publish blog, Description: Publish blog on Medium to demonstrate the project, Completed: No\n",
      "\n",
      "--- To-Do List ---\n",
      "1. Add Task\n",
      "2. View Tasks\n",
      "3. Mark Task as Completed\n",
      "4. Update Task Details\n",
      "5. Delete Task\n",
      "6. Exit\n",
      "Enter your choice: 6\n",
      "Goodbye!\n"
     ]
    }
   ],
   "source": [
    "if __name__ == \"__main__\":\n",
    "    while True:\n",
    "        print(\"\\n--- To-Do List ---\")\n",
    "        print(\"1. Add Task\")\n",
    "        print(\"2. View Tasks\")\n",
    "        print(\"3. Mark Task as Completed\")\n",
    "        print(\"4. Update Task Details\")\n",
    "        print(\"5. Delete Task\")\n",
    "        print(\"6. Exit\")\n",
    "\n",
    "        choice = int(input(\"Enter your choice: \"))\n",
    "\n",
    "        if choice == 1:\n",
    "            task_name = input(\"Enter the task name: \")\n",
    "            description = input(\"Enter the task description: \")\n",
    "            add_task(task_name, description)\n",
    "\n",
    "        elif choice == 2:\n",
    "            print(\"\\n--- Tasks ---\")\n",
    "            view_tasks()\n",
    "\n",
    "        elif choice == 3:\n",
    "            task_id = int(input(\"Enter the task ID to mark as completed: \"))\n",
    "            mark_completed(task_id)\n",
    "\n",
    "        elif choice == 4:\n",
    "            task_id = int(input(\"Enter the task ID to update: \"))\n",
    "            task_name = input(\"Enter the new task name: \")\n",
    "            description = input(\"Enter the new task description: \")\n",
    "            update_task(task_id, task_name, description)\n",
    "\n",
    "        elif choice == 5:\n",
    "            task_id = int(input(\"Enter the task ID to delete: \"))\n",
    "            delete_task(task_id)\n",
    "\n",
    "        elif choice == 6:\n",
    "            print(\"Goodbye!\")\n",
    "            break\n",
    "\n",
    "        else:\n",
    "            print(\"Invalid choice. Please try again.\")"
   ]
  }
 ],
 "metadata": {
  "kernelspec": {
   "display_name": "Python 3 (ipykernel)",
   "language": "python",
   "name": "python3"
  },
  "language_info": {
   "codemirror_mode": {
    "name": "ipython",
    "version": 3
   },
   "file_extension": ".py",
   "mimetype": "text/x-python",
   "name": "python",
   "nbconvert_exporter": "python",
   "pygments_lexer": "ipython3",
   "version": "3.10.12"
  }
 },
 "nbformat": 4,
 "nbformat_minor": 5
}
