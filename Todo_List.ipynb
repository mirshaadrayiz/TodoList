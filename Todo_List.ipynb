{
 "cells": [
  {
   "cell_type": "code",
   "execution_count": 3,
   "id": "e93ef274-604c-439b-b007-a74e2325d380",
   "metadata": {},
   "outputs": [
    {
     "name": "stdout",
     "output_type": "stream",
     "text": [
      "Defaulting to user installation because normal site-packages is not writeable\n",
      "Collecting mysql-connector-python\n",
      "  Downloading mysql_connector_python-8.4.0-cp310-cp310-manylinux_2_17_x86_64.whl (19.4 MB)\n",
      "\u001b[2K     \u001b[90m━━━━━━━━━━━━━━━━━━━━━━━━━━━━━━━━━━━━━━━━\u001b[0m \u001b[32m19.4/19.4 MB\u001b[0m \u001b[31m4.7 MB/s\u001b[0m eta \u001b[36m0:00:00\u001b[0m00:01\u001b[0m00:01\u001b[0mm\n",
      "\u001b[?25hInstalling collected packages: mysql-connector-python\n",
      "Successfully installed mysql-connector-python-8.4.0\n"
     ]
    }
   ],
   "source": [
    "!pip install mysql-connector-python"
   ]
  },
  {
   "cell_type": "code",
   "execution_count": 4,
   "id": "6064391e",
   "metadata": {},
   "outputs": [],
   "source": [
    "import mysql.connector\n",
    "import os"
   ]
  },
  {
   "cell_type": "code",
   "execution_count": 10,
   "id": "40dc1029",
   "metadata": {},
   "outputs": [
    {
     "ename": "TypeError",
     "evalue": "argument 3 must be str or None, not int",
     "output_type": "error",
     "traceback": [
      "\u001b[0;31m---------------------------------------------------------------------------\u001b[0m",
      "\u001b[0;31mTypeError\u001b[0m                                 Traceback (most recent call last)",
      "Cell \u001b[0;32mIn[10], line 1\u001b[0m\n\u001b[0;32m----> 1\u001b[0m db \u001b[38;5;241m=\u001b[39m \u001b[43mmysql\u001b[49m\u001b[38;5;241;43m.\u001b[39;49m\u001b[43mconnector\u001b[49m\u001b[38;5;241;43m.\u001b[39;49m\u001b[43mconnect\u001b[49m\u001b[43m(\u001b[49m\n\u001b[1;32m      2\u001b[0m \u001b[43m    \u001b[49m\u001b[43mhost\u001b[49m\u001b[38;5;241;43m=\u001b[39;49m\u001b[43m \u001b[49m\u001b[38;5;124;43m'\u001b[39;49m\u001b[38;5;124;43mtodo-db\u001b[39;49m\u001b[38;5;124;43m'\u001b[39;49m\u001b[43m,\u001b[49m\u001b[43m  \u001b[49m\u001b[38;5;66;43;03m# Use the service name here\u001b[39;49;00m\n\u001b[1;32m      3\u001b[0m \u001b[43m    \u001b[49m\u001b[43muser\u001b[49m\u001b[38;5;241;43m=\u001b[39;49m\u001b[43m \u001b[49m\u001b[38;5;124;43m'\u001b[39;49m\u001b[38;5;124;43mroot\u001b[39;49m\u001b[38;5;124;43m'\u001b[39;49m\u001b[43m,\u001b[49m\n\u001b[1;32m      4\u001b[0m \u001b[43m    \u001b[49m\u001b[43mpassword\u001b[49m\u001b[38;5;241;43m=\u001b[39;49m\u001b[43m \u001b[49m\u001b[38;5;241;43m123\u001b[39;49m\u001b[43m,\u001b[49m\n\u001b[1;32m      5\u001b[0m \u001b[43m    \u001b[49m\u001b[43mdatabase\u001b[49m\u001b[38;5;241;43m=\u001b[39;49m\u001b[43m \u001b[49m\u001b[38;5;124;43m'\u001b[39;49m\u001b[38;5;124;43mtodo_list\u001b[39;49m\u001b[38;5;124;43m'\u001b[39;49m\u001b[43m,\u001b[49m\n\u001b[1;32m      6\u001b[0m \u001b[43m    \u001b[49m\u001b[43mport\u001b[49m\u001b[38;5;241;43m=\u001b[39;49m\u001b[43m \u001b[49m\u001b[38;5;124;43m'\u001b[39;49m\u001b[38;5;124;43m3306\u001b[39;49m\u001b[38;5;124;43m'\u001b[39;49m\u001b[43m,\u001b[49m\n\u001b[1;32m      7\u001b[0m \u001b[43m    \u001b[49m\u001b[43mraise_on_warnings\u001b[49m\u001b[38;5;241;43m=\u001b[39;49m\u001b[43m \u001b[49m\u001b[38;5;28;43;01mTrue\u001b[39;49;00m\n\u001b[1;32m      8\u001b[0m \u001b[43m)\u001b[49m\n",
      "File \u001b[0;32m~/.local/lib/python3.10/site-packages/mysql/connector/pooling.py:322\u001b[0m, in \u001b[0;36mconnect\u001b[0;34m(*args, **kwargs)\u001b[0m\n\u001b[1;32m    319\u001b[0m         \u001b[38;5;28;01mraise\u001b[39;00m \u001b[38;5;167;01mImportError\u001b[39;00m(ERROR_NO_CEXT)\n\u001b[1;32m    321\u001b[0m \u001b[38;5;28;01mif\u001b[39;00m CMySQLConnection \u001b[38;5;129;01mand\u001b[39;00m \u001b[38;5;129;01mnot\u001b[39;00m use_pure:\n\u001b[0;32m--> 322\u001b[0m     \u001b[38;5;28;01mreturn\u001b[39;00m \u001b[43mCMySQLConnection\u001b[49m\u001b[43m(\u001b[49m\u001b[38;5;241;43m*\u001b[39;49m\u001b[43margs\u001b[49m\u001b[43m,\u001b[49m\u001b[43m \u001b[49m\u001b[38;5;241;43m*\u001b[39;49m\u001b[38;5;241;43m*\u001b[39;49m\u001b[43mkwargs\u001b[49m\u001b[43m)\u001b[49m\n\u001b[1;32m    323\u001b[0m \u001b[38;5;28;01mreturn\u001b[39;00m MySQLConnection(\u001b[38;5;241m*\u001b[39margs, \u001b[38;5;241m*\u001b[39m\u001b[38;5;241m*\u001b[39mkwargs)\n",
      "File \u001b[0;32m~/.local/lib/python3.10/site-packages/mysql/connector/connection_cext.py:144\u001b[0m, in \u001b[0;36mCMySQLConnection.__init__\u001b[0;34m(self, **kwargs)\u001b[0m\n\u001b[1;32m    142\u001b[0m \u001b[38;5;28;01mif\u001b[39;00m kwargs:\n\u001b[1;32m    143\u001b[0m     \u001b[38;5;28;01mtry\u001b[39;00m:\n\u001b[0;32m--> 144\u001b[0m         \u001b[38;5;28;43mself\u001b[39;49m\u001b[38;5;241;43m.\u001b[39;49m\u001b[43mconnect\u001b[49m\u001b[43m(\u001b[49m\u001b[38;5;241;43m*\u001b[39;49m\u001b[38;5;241;43m*\u001b[39;49m\u001b[43mkwargs\u001b[49m\u001b[43m)\u001b[49m\n\u001b[1;32m    145\u001b[0m     \u001b[38;5;28;01mexcept\u001b[39;00m \u001b[38;5;167;01mException\u001b[39;00m:\n\u001b[1;32m    146\u001b[0m         \u001b[38;5;28mself\u001b[39m\u001b[38;5;241m.\u001b[39mclose()\n",
      "File \u001b[0;32m~/.local/lib/python3.10/site-packages/mysql/connector/abstracts.py:1360\u001b[0m, in \u001b[0;36mMySQLConnectionAbstract.connect\u001b[0;34m(self, **kwargs)\u001b[0m\n\u001b[1;32m   1357\u001b[0m     \u001b[38;5;28mself\u001b[39m\u001b[38;5;241m.\u001b[39mconfig(\u001b[38;5;241m*\u001b[39m\u001b[38;5;241m*\u001b[39mkwargs)\n\u001b[1;32m   1359\u001b[0m \u001b[38;5;28mself\u001b[39m\u001b[38;5;241m.\u001b[39mdisconnect()\n\u001b[0;32m-> 1360\u001b[0m \u001b[38;5;28;43mself\u001b[39;49m\u001b[38;5;241;43m.\u001b[39;49m\u001b[43m_open_connection\u001b[49m\u001b[43m(\u001b[49m\u001b[43m)\u001b[49m\n\u001b[1;32m   1362\u001b[0m charset, collation \u001b[38;5;241m=\u001b[39m (\n\u001b[1;32m   1363\u001b[0m     kwargs\u001b[38;5;241m.\u001b[39mpop(\u001b[38;5;124m\"\u001b[39m\u001b[38;5;124mcharset\u001b[39m\u001b[38;5;124m\"\u001b[39m, \u001b[38;5;28;01mNone\u001b[39;00m),\n\u001b[1;32m   1364\u001b[0m     kwargs\u001b[38;5;241m.\u001b[39mpop(\u001b[38;5;124m\"\u001b[39m\u001b[38;5;124mcollation\u001b[39m\u001b[38;5;124m\"\u001b[39m, \u001b[38;5;28;01mNone\u001b[39;00m),\n\u001b[1;32m   1365\u001b[0m )\n\u001b[1;32m   1366\u001b[0m \u001b[38;5;28;01mif\u001b[39;00m charset \u001b[38;5;129;01mor\u001b[39;00m collation:\n",
      "File \u001b[0;32m~/.local/lib/python3.10/site-packages/mysql/connector/connection_cext.py:327\u001b[0m, in \u001b[0;36mCMySQLConnection._open_connection\u001b[0;34m(self)\u001b[0m\n\u001b[1;32m    324\u001b[0m     cnx_kwargs[\u001b[38;5;124m\"\u001b[39m\u001b[38;5;124muse_kerberos_gssapi\u001b[39m\u001b[38;5;124m\"\u001b[39m] \u001b[38;5;241m=\u001b[39m \u001b[38;5;28;01mTrue\u001b[39;00m\n\u001b[1;32m    326\u001b[0m \u001b[38;5;28;01mtry\u001b[39;00m:\n\u001b[0;32m--> 327\u001b[0m     \u001b[38;5;28;43mself\u001b[39;49m\u001b[38;5;241;43m.\u001b[39;49m\u001b[43m_cmysql\u001b[49m\u001b[38;5;241;43m.\u001b[39;49m\u001b[43mconnect\u001b[49m\u001b[43m(\u001b[49m\u001b[38;5;241;43m*\u001b[39;49m\u001b[38;5;241;43m*\u001b[39;49m\u001b[43mcnx_kwargs\u001b[49m\u001b[43m)\u001b[49m\n\u001b[1;32m    328\u001b[0m     \u001b[38;5;28mself\u001b[39m\u001b[38;5;241m.\u001b[39m_cmysql\u001b[38;5;241m.\u001b[39mconverter_str_fallback \u001b[38;5;241m=\u001b[39m \u001b[38;5;28mself\u001b[39m\u001b[38;5;241m.\u001b[39m_converter_str_fallback\n\u001b[1;32m    329\u001b[0m     \u001b[38;5;28;01mif\u001b[39;00m \u001b[38;5;28mself\u001b[39m\u001b[38;5;241m.\u001b[39mconverter:\n",
      "\u001b[0;31mTypeError\u001b[0m: argument 3 must be str or None, not int"
     ]
    }
   ],
   "source": [
    "# Database connection settings\n",
    "config = {\n",
    "    'user': os.getenv('DB_USER', 'root'),  # MySQL username\n",
    "    'password': os.getenv('DB_PASSWORD', '123'),  # MySQL password\n",
    "    'host': os.getenv('DB_HOST', 'localhost'),  # MySQL host\n",
    "    'database': os.getenv('DB_NAME', 'todo_list'),  # Database name\n",
    "    'port': os.getenv('DB_PORT', '3306'),  # MySQL port\n",
    "    'raise_on_warnings': True\n",
    "}\n",
    "\n",
    "try:\n",
    "    # Connect to the MySQL database\n",
    "    db = mysql.connector.connect(**config)\n",
    "\n",
    "    # Check if the connection is successful\n",
    "    if db.is_connected():\n",
    "        print('Connected to the MySQL database')\n",
    "        # Perform database operations here\n",
    "\n",
    "except mysql.connector.Error as error:\n",
    "    print('Error:', error)"
   ]
  },
  {
   "cell_type": "code",
   "execution_count": 3,
   "id": "f3b2aeb5",
   "metadata": {},
   "outputs": [],
   "source": [
    "def add_task(task_name, description):\n",
    "    cursor = db.cursor()\n",
    "    sql = \"INSERT INTO tasks (task_name, description) VALUES (%s, %s)\"\n",
    "    val = (task_name, description)\n",
    "    cursor.execute(sql, val)\n",
    "    db.commit()\n",
    "    print(\"Task added successfully!\")"
   ]
  },
  {
   "cell_type": "code",
   "execution_count": 4,
   "id": "8f08c4d6",
   "metadata": {},
   "outputs": [],
   "source": [
    "def view_tasks():\n",
    "    cursor = db.cursor()\n",
    "    sql = \"SELECT * FROM tasks\"\n",
    "    cursor.execute(sql)\n",
    "    tasks = cursor.fetchall()\n",
    "    if (tasks):\n",
    "        for task in tasks:\n",
    "            print(f\"Task ID: {task[0]}, Task Name: {task[1]}, Description: {task[2]}, Completed: {'Yes' if task[3] else 'No'}\")\n",
    "    else:\n",
    "        print(\"No Tasks in the DataBase\")"
   ]
  },
  {
   "cell_type": "code",
   "execution_count": 5,
   "id": "970fd6a8",
   "metadata": {},
   "outputs": [],
   "source": [
    "def mark_completed(task_id):\n",
    "    cursor = db.cursor()\n",
    "    sql = \"UPDATE tasks SET is_completed = 1 WHERE id = %s\"\n",
    "    val = (task_id,)\n",
    "    cursor.execute(sql, val)\n",
    "    db.commit()\n",
    "    print(\"Task marked as completed!\")"
   ]
  },
  {
   "cell_type": "code",
   "execution_count": 6,
   "id": "b6a7aceb",
   "metadata": {},
   "outputs": [],
   "source": [
    "def update_task(task_id, task_name, description):\n",
    "    cursor = db.cursor()\n",
    "    sql = \"UPDATE tasks SET task_name = %s, description = %s WHERE id = %s\"\n",
    "    val = (task_name, description, task_id)\n",
    "    cursor.execute(sql, val)\n",
    "    db.commit()\n",
    "    print(\"Task details updated successfully!\")"
   ]
  },
  {
   "cell_type": "code",
   "execution_count": 7,
   "id": "04deb49e",
   "metadata": {},
   "outputs": [],
   "source": [
    "def delete_task(task_id):\n",
    "    cursor = db.cursor()\n",
    "    sql = \"DELETE FROM tasks WHERE id = %s\"\n",
    "    val = (task_id,)\n",
    "    cursor.execute(sql, val)\n",
    "    db.commit()\n",
    "    print(\"Task deleted successfully!\")"
   ]
  },
  {
   "cell_type": "code",
   "execution_count": 8,
   "id": "73f9e2e4",
   "metadata": {},
   "outputs": [
    {
     "name": "stdout",
     "output_type": "stream",
     "text": [
      "\n",
      "--- To-Do List ---\n",
      "1. Add Task\n",
      "2. View Tasks\n",
      "3. Mark Task as Completed\n",
      "4. Update Task Details\n",
      "5. Delete Task\n",
      "6. Exit\n",
      "Enter your choice: 2\n",
      "\n",
      "--- Tasks ---\n",
      "Task ID: 3, Task Name: Test ToDo Application, Description: Test and Debug to fix issues in the Application, Completed: No\n",
      "Task ID: 4, Task Name: Update GitHub, Description: Publish new changes of the ToDo App in the Repository, Completed: No\n",
      "\n",
      "--- To-Do List ---\n",
      "1. Add Task\n",
      "2. View Tasks\n",
      "3. Mark Task as Completed\n",
      "4. Update Task Details\n",
      "5. Delete Task\n",
      "6. Exit\n",
      "Enter your choice: 3\n",
      "Enter the task ID to mark as completed: 3\n",
      "Task marked as completed!\n",
      "\n",
      "--- To-Do List ---\n",
      "1. Add Task\n",
      "2. View Tasks\n",
      "3. Mark Task as Completed\n",
      "4. Update Task Details\n",
      "5. Delete Task\n",
      "6. Exit\n",
      "Enter your choice: 1\n",
      "Enter the task name: Publish blog\n",
      "Enter the task description: Publish blog on Medium to demonstrate the project\n",
      "Task added successfully!\n",
      "\n",
      "--- To-Do List ---\n",
      "1. Add Task\n",
      "2. View Tasks\n",
      "3. Mark Task as Completed\n",
      "4. Update Task Details\n",
      "5. Delete Task\n",
      "6. Exit\n",
      "Enter your choice: 2\n",
      "\n",
      "--- Tasks ---\n",
      "Task ID: 3, Task Name: Test ToDo Application, Description: Test and Debug to fix issues in the Application, Completed: Yes\n",
      "Task ID: 4, Task Name: Update GitHub, Description: Publish new changes of the ToDo App in the Repository, Completed: No\n",
      "Task ID: 5, Task Name: Publish blog, Description: Publish blog on Medium to demonstrate the project, Completed: No\n",
      "\n",
      "--- To-Do List ---\n",
      "1. Add Task\n",
      "2. View Tasks\n",
      "3. Mark Task as Completed\n",
      "4. Update Task Details\n",
      "5. Delete Task\n",
      "6. Exit\n",
      "Enter your choice: 6\n",
      "Goodbye!\n"
     ]
    }
   ],
   "source": [
    "if __name__ == \"__main__\":\n",
    "    while True:\n",
    "        print(\"\\n--- To-Do List ---\")\n",
    "        print(\"1. Add Task\")\n",
    "        print(\"2. View Tasks\")\n",
    "        print(\"3. Mark Task as Completed\")\n",
    "        print(\"4. Update Task Details\")\n",
    "        print(\"5. Delete Task\")\n",
    "        print(\"6. Exit\")\n",
    "\n",
    "        choice = int(input(\"Enter your choice: \"))\n",
    "\n",
    "        if choice == 1:\n",
    "            task_name = input(\"Enter the task name: \")\n",
    "            description = input(\"Enter the task description: \")\n",
    "            add_task(task_name, description)\n",
    "\n",
    "        elif choice == 2:\n",
    "            print(\"\\n--- Tasks ---\")\n",
    "            view_tasks()\n",
    "\n",
    "        elif choice == 3:\n",
    "            task_id = int(input(\"Enter the task ID to mark as completed: \"))\n",
    "            mark_completed(task_id)\n",
    "\n",
    "        elif choice == 4:\n",
    "            task_id = int(input(\"Enter the task ID to update: \"))\n",
    "            task_name = input(\"Enter the new task name: \")\n",
    "            description = input(\"Enter the new task description: \")\n",
    "            update_task(task_id, task_name, description)\n",
    "\n",
    "        elif choice == 5:\n",
    "            task_id = int(input(\"Enter the task ID to delete: \"))\n",
    "            delete_task(task_id)\n",
    "\n",
    "        elif choice == 6:\n",
    "            print(\"Goodbye!\")\n",
    "            break\n",
    "\n",
    "        else:\n",
    "            print(\"Invalid choice. Please try again.\")"
   ]
  }
 ],
 "metadata": {
  "kernelspec": {
   "display_name": "Python 3 (ipykernel)",
   "language": "python",
   "name": "python3"
  },
  "language_info": {
   "codemirror_mode": {
    "name": "ipython",
    "version": 3
   },
   "file_extension": ".py",
   "mimetype": "text/x-python",
   "name": "python",
   "nbconvert_exporter": "python",
   "pygments_lexer": "ipython3",
   "version": "3.10.12"
  }
 },
 "nbformat": 4,
 "nbformat_minor": 5
}
